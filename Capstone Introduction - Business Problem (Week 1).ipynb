{
 "cells": [
  {
   "cell_type": "markdown",
   "metadata": {},
   "source": [
    "<h1> Capstone Project - The Battle of Neighborhoods (Week 1) </h1>"
   ]
  },
  {
   "cell_type": "markdown",
   "metadata": {},
   "source": [
    "<h2> 1. Introduction/Business Problem </h2>"
   ]
  },
  {
   "cell_type": "markdown",
   "metadata": {},
   "source": [
    "**1.1 Introduction**\n",
    "\n",
    "<p>•	Toronto is the capital city of the Canadian province of Ontario. With a recorded population of 2,731,571 in 2016,[1] it is the most populous city in Canada and the fourth most populous city in North America. The city is the anchor of the Golden Horseshoe, an urban agglomeration of 9,245,438 people (as of 2016) surrounding the western end of Lake Ontario,[2] while the Greater Toronto Area (GTA) proper had a 2016 population of 6,417,516. Toronto is an international centre of business, finance, arts, and culture, and is recognized as one of the most multicultural and cosmopolitan cities in the world.</p>\n",
    "<p>•	The 140 neighborhoods used by the City of Toronto were developed to help government and community organizations with their local planning by providing socio-economic data at a meaningful geographic area. The boundaries of these social planning neighborhoods do not change over time, allowing researchers to examine changes over time. In order to ensure high quality social data, the neighborhoods were defined based on Statistics Canada Census Tract boundaries. Census Tracts include several city blocks and have on average about 4,000 people. Neighborhoods are comprised of from 2 to 5 Census Tracts.[3]</p>\n",
    "\n",
    "•	Location can make the difference between a successful restaurant and a good idea that never really got off the ground. It is all about finding the right ingredients – the right combination of a desirable location, key demographics, and available parking – when cooking up a recipe for a successful restaurant. [4] And further steps are required to analyze and be taken in consideration, including creating a business plan, having bank approval or finance available, recruiting a team and decide about equipment suppliers, etc.\n",
    "\n",
    "\n",
    "**1.2. Business Problem**\n",
    "\n",
    "•	The purpose of this project is to examine the most suitable and convenient for somebody who wants to open an Italian Pizza Place in Etobicoke borough, Toronto.\n",
    "\n",
    "•	The location of the Pizza Place should be in one of the Eobicoke neighborhoods where no Pizza Place is present or a limited of such places, but there is enough population to sustain such business, including people with Italian descend.\n",
    "\n",
    "•	Another factor determining an optimum solution where to start a new Pizza Place is linked to the neighborhoods people's income. More people earning more money is linked proportionally to people spending more time and money into restaurants.\n",
    "\n"
   ]
  },
  {
   "cell_type": "markdown",
   "metadata": {},
   "source": []
  },
  {
   "cell_type": "code",
   "execution_count": null,
   "metadata": {},
   "outputs": [],
   "source": []
  },
  {
   "cell_type": "code",
   "execution_count": null,
   "metadata": {},
   "outputs": [],
   "source": []
  }
 ],
 "metadata": {
  "kernelspec": {
   "display_name": "Python 3",
   "language": "python",
   "name": "python3"
  },
  "language_info": {
   "codemirror_mode": {
    "name": "ipython",
    "version": 3
   },
   "file_extension": ".py",
   "mimetype": "text/x-python",
   "name": "python",
   "nbconvert_exporter": "python",
   "pygments_lexer": "ipython3",
   "version": "3.8.5"
  }
 },
 "nbformat": 4,
 "nbformat_minor": 4
}
