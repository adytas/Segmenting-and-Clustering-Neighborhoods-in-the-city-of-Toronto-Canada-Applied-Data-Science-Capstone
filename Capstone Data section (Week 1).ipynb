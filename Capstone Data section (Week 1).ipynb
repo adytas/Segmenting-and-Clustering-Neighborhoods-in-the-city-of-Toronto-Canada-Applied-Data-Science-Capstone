{
 "cells": [
  {
   "cell_type": "markdown",
   "metadata": {},
   "source": [
    "<h1> Capstone Project - The Battle of Neighborhoods (Week 1) </h1>"
   ]
  },
  {
   "cell_type": "markdown",
   "metadata": {},
   "source": [
    "<h2> 2. Data to be used for finding the best location for Pizza Place in Etobicoke, Toronto</h2>"
   ]
  },
  {
   "cell_type": "markdown",
   "metadata": {},
   "source": [
    "For solving our business problem, the following data processing was required:\n",
    "- Exloring and clustering the neighborhoods in Toronto, based on the following Wikipedia page, https://en.wikipedia.org/wiki/List_of_postal_codes_of_Canada:_M, in order to obtain the data required to build our table of postal codes and to transform the data into a suitable format that we will use to interpret and provide a solution. This willbe done using BeautifulSoup package.\n",
    "- Importing the populations for each Toronto borough from: https://www12.statcan.gc.ca/census-recensement/2016/dp-pd/hlt-fst/pd-pl/Tables/File.cfm?T=1201&SR=1&RPP=9999&PR=0&CMA=0&CSD=0&S=22&O=A&Lang=Eng&OFT=CSV.\n",
    "- Importing average inomeafter tax for each neighborhood from stat Canada: https://www12.statcan.gc.ca/census-recensement/2016/dp-pd/prof/search-recherche/change-geo.cfm?Lang=E&Geo1=FSA\n",
    "- Using Foursquare location data to extract the information with the most common venues, fit them into clusters, and determine the best outcome cluster using k-means clustering.\n",
    "- Using geopy library to get the latitude and longitude values of Toronto and Etobicoke.\n",
    "- Using **Folium** for great visualization into the generated map, and click on each circle mark to reveal the name of the neighborhood and its respective borough.\n",
    "- Simplifying the generated Etobicoke map and segment and cluster only the neighborhoods in ETOBICOKE."
   ]
  },
  {
   "cell_type": "code",
   "execution_count": null,
   "metadata": {},
   "outputs": [],
   "source": []
  },
  {
   "cell_type": "markdown",
   "metadata": {},
   "source": []
  },
  {
   "cell_type": "code",
   "execution_count": null,
   "metadata": {},
   "outputs": [],
   "source": []
  },
  {
   "cell_type": "code",
   "execution_count": null,
   "metadata": {},
   "outputs": [],
   "source": []
  }
 ],
 "metadata": {
  "kernelspec": {
   "display_name": "Python 3",
   "language": "python",
   "name": "python3"
  },
  "language_info": {
   "codemirror_mode": {
    "name": "ipython",
    "version": 3
   },
   "file_extension": ".py",
   "mimetype": "text/x-python",
   "name": "python",
   "nbconvert_exporter": "python",
   "pygments_lexer": "ipython3",
   "version": "3.8.5"
  }
 },
 "nbformat": 4,
 "nbformat_minor": 4
}
